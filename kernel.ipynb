{
  "cells": [
    {
      "metadata": {
        "_uuid": "8f2839f25d086af736a60e9eeb907d3b93b6e0e5",
        "_cell_guid": "b1076dfc-b9ad-4769-8c92-a6c4dae69d19",
        "trusted": true,
        "collapsed": true
      },
      "cell_type": "code",
      "source": "import pandas as pd\nimport numpy as np\nfrom keras.layers import Activation, Dense, Dropout\nfrom keras.models import Sequential\nimport matplotlib.pyplot as plt\n%pylab inline",
      "execution_count": null,
      "outputs": []
    },
    {
      "metadata": {
        "_uuid": "ad7c0126e3c4c25fb3071d4a8991487ce4713e20"
      },
      "cell_type": "markdown",
      "source": "## Load training and test data"
    },
    {
      "metadata": {
        "_cell_guid": "79c7e3d0-c299-4dcb-8224-4455121ee9b0",
        "_uuid": "d629ff2d2480ee46fbb7e2d37f6b5fab8052498a",
        "trusted": true,
        "collapsed": true
      },
      "cell_type": "code",
      "source": "# load training data\ntrain = pd.read_csv('../input/train.csv')\ntest = pd.read_csv('../input/test.csv')",
      "execution_count": null,
      "outputs": []
    },
    {
      "metadata": {
        "_uuid": "210307bed3dc3006f982e74cdd580c4c52b53611"
      },
      "cell_type": "markdown",
      "source": "Split training data into training data and cross validation data"
    },
    {
      "metadata": {
        "trusted": true,
        "_uuid": "47b320391d9b6063aa9a59d3ceabf89ecafb63e8",
        "collapsed": true
      },
      "cell_type": "code",
      "source": "# check shape of training data\ntrain.shape # (42000, 785)\n\n# Dividing dataset into training and CV data using (80:20) ratio\nnum_train = int(0.8 * train.shape[0])\nX = (train.iloc[:num_train, 1:]).values # first 80% examples\nX_cv = (train.iloc[num_train:, 1:]).values # rest examples\n\n# observing the dataset\nprint(X.shape)\nprint(X)",
      "execution_count": null,
      "outputs": []
    },
    {
      "metadata": {
        "_uuid": "27dd9f7dac896b7de27dc0d4b4be5fe88b88d991"
      },
      "cell_type": "markdown",
      "source": "It is clearly visible that the first column of each row contains the label, so we seperate it out, and then perform **One-hot encoding**"
    },
    {
      "metadata": {
        "trusted": true,
        "_uuid": "d3f0ad7499b11178618f63e0ee6ad18d8aff8741",
        "collapsed": true
      },
      "cell_type": "code",
      "source": "# get labels from 1st column of each row\nlabels = train.iloc[:, 0].values\n\n# encoding for training data\ny = np.zeros((num_train, 10))\nfor i in range(num_train):\n    y[i][labels[i]] = 1;\n\nnum_cv = train.shape[0] - num_train\n# encoding for cv data\ny_cv = np.zeros((num_cv, 10))\nfor i in range(num_cv):\n    y_cv[i][labels[num_train + i]] = 1\n    \n# training labels\nprint(y)\n\nprint(\"---------------------------------------------\")\n\n# cv labels\nprint(y_cv)",
      "execution_count": null,
      "outputs": []
    },
    {
      "metadata": {
        "_uuid": "b9398d85626c7a21ef2eccaa8d5bd2004b4573c3"
      },
      "cell_type": "markdown",
      "source": "## Creating the Neural Network using Keras"
    },
    {
      "metadata": {
        "trusted": true,
        "collapsed": true,
        "_uuid": "bcc800039b6023a977f9efa0cd808a70b11fcd00"
      },
      "cell_type": "code",
      "source": "model = Sequential([\n    # input layer\n    Dense(32, input_dim=784),\n    Activation('sigmoid'),\n    Dropout(0.25), # 25% dropout rate to prevent overfitting\n    # hidden layer\n    Dense(32),\n    Activation('sigmoid'),\n    Dropout(0.25),\n    # output layer (10 nodes)\n    Dense(10),\n    Activation('sigmoid'),\n])",
      "execution_count": null,
      "outputs": []
    },
    {
      "metadata": {
        "_uuid": "6ada5dbc3dbc2add6126df1a43f39fd938994873"
      },
      "cell_type": "markdown",
      "source": "## Compiling and training the model to verify tests"
    },
    {
      "metadata": {
        "trusted": true,
        "_uuid": "479af15bdd30ad8b03b72304af725abafdf5dc82",
        "collapsed": true
      },
      "cell_type": "code",
      "source": "# compiling model\nmodel.compile(optimizer = 'adadelta',\n              loss = 'categorical_crossentropy',\n              metrics=['accuracy'])",
      "execution_count": null,
      "outputs": []
    },
    {
      "metadata": {
        "trusted": true,
        "_uuid": "e1f563f777dc65b057424a4e3dfcd2b5419105fe",
        "collapsed": true
      },
      "cell_type": "code",
      "source": "# training the model\nhist = model.fit(X, y, epochs = 50, batch_size = 32, verbose = 0)\nprint('done')",
      "execution_count": null,
      "outputs": []
    },
    {
      "metadata": {
        "_uuid": "e01cddb7054581258a6579ce9093109bd66eb472"
      },
      "cell_type": "markdown",
      "source": "## Evaluating model on Cross validation set"
    },
    {
      "metadata": {
        "trusted": true,
        "_uuid": "fa2402bc2f711d924674c583712640de7e41a0ef",
        "collapsed": true
      },
      "cell_type": "code",
      "source": "score = model.evaluate(X_cv,y_cv,batch_size = 32, verbose = 0)\nprint(score)",
      "execution_count": null,
      "outputs": []
    },
    {
      "metadata": {
        "_uuid": "580f64afdab41ca6dc464cd5908d9c1cb67b3dd1"
      },
      "cell_type": "markdown",
      "source": "## Plotting the cost function"
    },
    {
      "metadata": {
        "trusted": true,
        "_uuid": "77ef325647a038acb1ef7f1eae844d9f85c09269",
        "collapsed": true
      },
      "cell_type": "code",
      "source": "info = hist.history\nplt.plot(info['loss'])",
      "execution_count": null,
      "outputs": []
    },
    {
      "metadata": {
        "_uuid": "8d13dde68a757781ccce2d7d8ae59fd40b0b8af2"
      },
      "cell_type": "markdown",
      "source": "## Predicting from the test data"
    },
    {
      "metadata": {
        "trusted": true,
        "_uuid": "1dd3b3bd70452aa4d73c82ed99ce47786b279735",
        "collapsed": true
      },
      "cell_type": "code",
      "source": "yPred = model.predict_classes(test)\nprint(yPred)",
      "execution_count": null,
      "outputs": []
    },
    {
      "metadata": {
        "_uuid": "6279bc654d664bee55c00088d317091fdca34ed8"
      },
      "cell_type": "markdown",
      "source": "## Saving the predictions as a CSV file"
    },
    {
      "metadata": {
        "trusted": true,
        "collapsed": true,
        "_uuid": "c57aa5dd388ae0762ac00083fb30e30bf76a4131"
      },
      "cell_type": "code",
      "source": "np.savetxt('submission.csv', np.c_[range(1, len(yPred) + 1), yPred], delimiter=',', header='ImageId,Label', comments='', fmt='%d')",
      "execution_count": null,
      "outputs": []
    },
    {
      "metadata": {
        "trusted": true,
        "_uuid": "537af079fd6f94e89ad29e7dbeeada45139ad1ab",
        "collapsed": true
      },
      "cell_type": "code",
      "source": "! ls",
      "execution_count": null,
      "outputs": []
    },
    {
      "metadata": {
        "trusted": true,
        "_uuid": "6df8c68aecd2d311b7b856d72c3cf4270ef6d641",
        "collapsed": true
      },
      "cell_type": "code",
      "source": "sample = pd.read_csv('../input/sample_submission.csv')\nsample",
      "execution_count": null,
      "outputs": []
    }
  ],
  "metadata": {
    "kernelspec": {
      "display_name": "Python 3",
      "language": "python",
      "name": "python3"
    },
    "language_info": {
      "name": "python",
      "version": "3.6.4",
      "mimetype": "text/x-python",
      "codemirror_mode": {
        "name": "ipython",
        "version": 3
      },
      "pygments_lexer": "ipython3",
      "nbconvert_exporter": "python",
      "file_extension": ".py"
    }
  },
  "nbformat": 4,
  "nbformat_minor": 1
}